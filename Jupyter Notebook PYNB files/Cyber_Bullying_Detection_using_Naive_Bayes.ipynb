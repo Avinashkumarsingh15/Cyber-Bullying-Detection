{
 "cells": [
  {
   "cell_type": "markdown",
   "metadata": {},
   "source": [
    "### Importing the libraries"
   ]
  },
  {
   "cell_type": "code",
   "execution_count": 1,
   "metadata": {},
   "outputs": [],
   "source": [
    "import pandas as pd\n",
    "import numpy as np\n",
    "import matplotlib.pyplot as plt\n",
    "%matplotlib notebook\n",
    "from textblob import TextBlob as tb"
   ]
  },
  {
   "cell_type": "markdown",
   "metadata": {},
   "source": [
    "### Importing the Comments dataset"
   ]
  },
  {
   "cell_type": "code",
   "execution_count": 2,
   "metadata": {},
   "outputs": [
    {
     "data": {
      "text/html": [
       "<div>\n",
       "<style scoped>\n",
       "    .dataframe tbody tr th:only-of-type {\n",
       "        vertical-align: middle;\n",
       "    }\n",
       "\n",
       "    .dataframe tbody tr th {\n",
       "        vertical-align: top;\n",
       "    }\n",
       "\n",
       "    .dataframe thead th {\n",
       "        text-align: right;\n",
       "    }\n",
       "</style>\n",
       "<table border=\"1\" class=\"dataframe\">\n",
       "  <thead>\n",
       "    <tr style=\"text-align: right;\">\n",
       "      <th></th>\n",
       "      <th>Comment Id</th>\n",
       "      <th>Date</th>\n",
       "      <th>Time</th>\n",
       "      <th>form_id</th>\n",
       "      <th>From</th>\n",
       "      <th>Message</th>\n",
       "      <th>Likes</th>\n",
       "      <th>Comments</th>\n",
       "    </tr>\n",
       "  </thead>\n",
       "  <tbody>\n",
       "    <tr>\n",
       "      <th>0</th>\n",
       "      <td>609026476288715_609026876288675</td>\n",
       "      <td>7/23/2019</td>\n",
       "      <td>10:22</td>\n",
       "      <td>6.090000e+14</td>\n",
       "      <td>Bhai bhai</td>\n",
       "      <td>hi</td>\n",
       "      <td>0</td>\n",
       "      <td>0</td>\n",
       "    </tr>\n",
       "    <tr>\n",
       "      <th>1</th>\n",
       "      <td>609026476288715_609026892955340</td>\n",
       "      <td>7/23/2019</td>\n",
       "      <td>10:22</td>\n",
       "      <td>6.090000e+14</td>\n",
       "      <td>Bhai bhai</td>\n",
       "      <td>bye</td>\n",
       "      <td>0</td>\n",
       "      <td>1</td>\n",
       "    </tr>\n",
       "    <tr>\n",
       "      <th>2</th>\n",
       "      <td>609026476288715_609029069621789</td>\n",
       "      <td>7/23/2019</td>\n",
       "      <td>10:29</td>\n",
       "      <td>2.460000e+15</td>\n",
       "      <td>Harsh Khandelwal</td>\n",
       "      <td>wow very nice post..</td>\n",
       "      <td>0</td>\n",
       "      <td>2</td>\n",
       "    </tr>\n",
       "    <tr>\n",
       "      <th>3</th>\n",
       "      <td>609026476288715_609029662955063</td>\n",
       "      <td>7/23/2019</td>\n",
       "      <td>10:30</td>\n",
       "      <td>2.460000e+15</td>\n",
       "      <td>Harsh Khandelwal</td>\n",
       "      <td>very funny</td>\n",
       "      <td>0</td>\n",
       "      <td>0</td>\n",
       "    </tr>\n",
       "    <tr>\n",
       "      <th>4</th>\n",
       "      <td>609026476288715_609029732955056</td>\n",
       "      <td>7/23/2019</td>\n",
       "      <td>10:31</td>\n",
       "      <td>6.090000e+14</td>\n",
       "      <td>Bhai bhai</td>\n",
       "      <td>thankyou so much dear</td>\n",
       "      <td>0</td>\n",
       "      <td>0</td>\n",
       "    </tr>\n",
       "    <tr>\n",
       "      <th>5</th>\n",
       "      <td>609026476288715_609253272932702</td>\n",
       "      <td>7/23/2019</td>\n",
       "      <td>17:37</td>\n",
       "      <td>6.090000e+14</td>\n",
       "      <td>Bhai bhai</td>\n",
       "      <td>Shut up????</td>\n",
       "      <td>0</td>\n",
       "      <td>0</td>\n",
       "    </tr>\n",
       "    <tr>\n",
       "      <th>6</th>\n",
       "      <td>609026476288715_609264796264883</td>\n",
       "      <td>7/23/2019</td>\n",
       "      <td>18:03</td>\n",
       "      <td>6.090000e+14</td>\n",
       "      <td>Bhai bhai</td>\n",
       "      <td>you dumb ass</td>\n",
       "      <td>0</td>\n",
       "      <td>0</td>\n",
       "    </tr>\n",
       "    <tr>\n",
       "      <th>7</th>\n",
       "      <td>609026476288715_609264796264889</td>\n",
       "      <td>7/23/2019</td>\n",
       "      <td>18:03</td>\n",
       "      <td>4.090000e+14</td>\n",
       "      <td>Vidit</td>\n",
       "      <td>Very Bad post</td>\n",
       "      <td>0</td>\n",
       "      <td>0</td>\n",
       "    </tr>\n",
       "    <tr>\n",
       "      <th>8</th>\n",
       "      <td>609026476288715_609264796264890</td>\n",
       "      <td>7/23/2019</td>\n",
       "      <td>18:04</td>\n",
       "      <td>4.090000e+14</td>\n",
       "      <td>Vidit</td>\n",
       "      <td>वाह तुम कमाल की लग रही हो</td>\n",
       "      <td>0</td>\n",
       "      <td>0</td>\n",
       "    </tr>\n",
       "    <tr>\n",
       "      <th>9</th>\n",
       "      <td>609026476288715_609029662955063</td>\n",
       "      <td>7/23/2019</td>\n",
       "      <td>10:30:00</td>\n",
       "      <td>2.460000e+15</td>\n",
       "      <td>Harsh Khandelwal</td>\n",
       "      <td>سيئ جدا</td>\n",
       "      <td>0</td>\n",
       "      <td>0</td>\n",
       "    </tr>\n",
       "  </tbody>\n",
       "</table>\n",
       "</div>"
      ],
      "text/plain": [
       "                        Comment Id       Date      Time       form_id  \\\n",
       "0  609026476288715_609026876288675  7/23/2019     10:22  6.090000e+14   \n",
       "1  609026476288715_609026892955340  7/23/2019     10:22  6.090000e+14   \n",
       "2  609026476288715_609029069621789  7/23/2019     10:29  2.460000e+15   \n",
       "3  609026476288715_609029662955063  7/23/2019     10:30  2.460000e+15   \n",
       "4  609026476288715_609029732955056  7/23/2019     10:31  6.090000e+14   \n",
       "5  609026476288715_609253272932702  7/23/2019     17:37  6.090000e+14   \n",
       "6  609026476288715_609264796264883  7/23/2019     18:03  6.090000e+14   \n",
       "7  609026476288715_609264796264889  7/23/2019     18:03  4.090000e+14   \n",
       "8  609026476288715_609264796264890  7/23/2019     18:04  4.090000e+14   \n",
       "9  609026476288715_609029662955063  7/23/2019  10:30:00  2.460000e+15   \n",
       "\n",
       "               From                    Message  Likes  Comments  \n",
       "0         Bhai bhai                         hi      0         0  \n",
       "1         Bhai bhai                        bye      0         1  \n",
       "2  Harsh Khandelwal       wow very nice post..      0         2  \n",
       "3  Harsh Khandelwal                 very funny      0         0  \n",
       "4         Bhai bhai      thankyou so much dear      0         0  \n",
       "5         Bhai bhai                Shut up????      0         0  \n",
       "6         Bhai bhai               you dumb ass      0         0  \n",
       "7             Vidit              Very Bad post      0         0  \n",
       "8             Vidit  वाह तुम कमाल की लग रही हो      0         0  \n",
       "9  Harsh Khandelwal                    سيئ جدا      0         0  "
      ]
     },
     "execution_count": 2,
     "metadata": {},
     "output_type": "execute_result"
    }
   ],
   "source": [
    "df=pd.read_csv(\"Desktop/comments_609026426288720 (2).csv\")\n",
    "df"
   ]
  },
  {
   "cell_type": "markdown",
   "metadata": {},
   "source": [
    "### Importing the Reactions dataset"
   ]
  },
  {
   "cell_type": "code",
   "execution_count": 3,
   "metadata": {},
   "outputs": [
    {
     "data": {
      "text/html": [
       "<div>\n",
       "<style scoped>\n",
       "    .dataframe tbody tr th:only-of-type {\n",
       "        vertical-align: middle;\n",
       "    }\n",
       "\n",
       "    .dataframe tbody tr th {\n",
       "        vertical-align: top;\n",
       "    }\n",
       "\n",
       "    .dataframe thead th {\n",
       "        text-align: right;\n",
       "    }\n",
       "</style>\n",
       "<table border=\"1\" class=\"dataframe\">\n",
       "  <thead>\n",
       "    <tr style=\"text-align: right;\">\n",
       "      <th></th>\n",
       "      <th>form_id</th>\n",
       "      <th>From</th>\n",
       "      <th>Type</th>\n",
       "    </tr>\n",
       "  </thead>\n",
       "  <tbody>\n",
       "    <tr>\n",
       "      <th>0</th>\n",
       "      <td>6.090000e+14</td>\n",
       "      <td>Bhai bhai</td>\n",
       "      <td>LIKE</td>\n",
       "    </tr>\n",
       "    <tr>\n",
       "      <th>1</th>\n",
       "      <td>2.460000e+15</td>\n",
       "      <td>Harsh Khandelwal</td>\n",
       "      <td>HAHA</td>\n",
       "    </tr>\n",
       "    <tr>\n",
       "      <th>2</th>\n",
       "      <td>4.090000e+14</td>\n",
       "      <td>Vidit</td>\n",
       "      <td>Angry</td>\n",
       "    </tr>\n",
       "  </tbody>\n",
       "</table>\n",
       "</div>"
      ],
      "text/plain": [
       "        form_id              From   Type\n",
       "0  6.090000e+14         Bhai bhai   LIKE\n",
       "1  2.460000e+15  Harsh Khandelwal   HAHA\n",
       "2  4.090000e+14             Vidit  Angry"
      ]
     },
     "execution_count": 3,
     "metadata": {},
     "output_type": "execute_result"
    }
   ],
   "source": [
    "df1=pd.read_csv(\"Desktop/reactions_609026426288720(1).csv\")\n",
    "df1"
   ]
  },
  {
   "cell_type": "markdown",
   "metadata": {},
   "source": [
    "### Importing the Corpus(Vulgar words)"
   ]
  },
  {
   "cell_type": "code",
   "execution_count": 4,
   "metadata": {},
   "outputs": [],
   "source": [
    "data=pd.read_csv(\"Desktop/data.csv\")"
   ]
  },
  {
   "cell_type": "code",
   "execution_count": 5,
   "metadata": {},
   "outputs": [
    {
     "data": {
      "text/plain": [
       "0    6.090000e+14\n",
       "1    6.090000e+14\n",
       "2    2.460000e+15\n",
       "3    2.460000e+15\n",
       "4    6.090000e+14\n",
       "5    6.090000e+14\n",
       "6    6.090000e+14\n",
       "7    4.090000e+14\n",
       "8    4.090000e+14\n",
       "9    2.460000e+15\n",
       "Name: form_id, dtype: float64"
      ]
     },
     "execution_count": 5,
     "metadata": {},
     "output_type": "execute_result"
    }
   ],
   "source": [
    "df[\"form_id\"]  #Column used to merge the comments and the reactions"
   ]
  },
  {
   "cell_type": "markdown",
   "metadata": {},
   "source": [
    "### Merging the Dataset"
   ]
  },
  {
   "cell_type": "code",
   "execution_count": 6,
   "metadata": {},
   "outputs": [
    {
     "data": {
      "text/html": [
       "<div>\n",
       "<style scoped>\n",
       "    .dataframe tbody tr th:only-of-type {\n",
       "        vertical-align: middle;\n",
       "    }\n",
       "\n",
       "    .dataframe tbody tr th {\n",
       "        vertical-align: top;\n",
       "    }\n",
       "\n",
       "    .dataframe thead th {\n",
       "        text-align: right;\n",
       "    }\n",
       "</style>\n",
       "<table border=\"1\" class=\"dataframe\">\n",
       "  <thead>\n",
       "    <tr style=\"text-align: right;\">\n",
       "      <th></th>\n",
       "      <th>Comment Id</th>\n",
       "      <th>Date</th>\n",
       "      <th>Time</th>\n",
       "      <th>form_id</th>\n",
       "      <th>From_x</th>\n",
       "      <th>Message</th>\n",
       "      <th>Likes</th>\n",
       "      <th>Comments</th>\n",
       "      <th>Type</th>\n",
       "    </tr>\n",
       "  </thead>\n",
       "  <tbody>\n",
       "    <tr>\n",
       "      <th>0</th>\n",
       "      <td>609026476288715_609026876288675</td>\n",
       "      <td>7/23/2019</td>\n",
       "      <td>10:22</td>\n",
       "      <td>6.090000e+14</td>\n",
       "      <td>Bhai bhai</td>\n",
       "      <td>hi</td>\n",
       "      <td>0</td>\n",
       "      <td>0</td>\n",
       "      <td>LIKE</td>\n",
       "    </tr>\n",
       "    <tr>\n",
       "      <th>1</th>\n",
       "      <td>609026476288715_609026892955340</td>\n",
       "      <td>7/23/2019</td>\n",
       "      <td>10:22</td>\n",
       "      <td>6.090000e+14</td>\n",
       "      <td>Bhai bhai</td>\n",
       "      <td>bye</td>\n",
       "      <td>0</td>\n",
       "      <td>1</td>\n",
       "      <td>LIKE</td>\n",
       "    </tr>\n",
       "    <tr>\n",
       "      <th>2</th>\n",
       "      <td>609026476288715_609029732955056</td>\n",
       "      <td>7/23/2019</td>\n",
       "      <td>10:31</td>\n",
       "      <td>6.090000e+14</td>\n",
       "      <td>Bhai bhai</td>\n",
       "      <td>thankyou so much dear</td>\n",
       "      <td>0</td>\n",
       "      <td>0</td>\n",
       "      <td>LIKE</td>\n",
       "    </tr>\n",
       "    <tr>\n",
       "      <th>3</th>\n",
       "      <td>609026476288715_609253272932702</td>\n",
       "      <td>7/23/2019</td>\n",
       "      <td>17:37</td>\n",
       "      <td>6.090000e+14</td>\n",
       "      <td>Bhai bhai</td>\n",
       "      <td>Shut up????</td>\n",
       "      <td>0</td>\n",
       "      <td>0</td>\n",
       "      <td>LIKE</td>\n",
       "    </tr>\n",
       "    <tr>\n",
       "      <th>4</th>\n",
       "      <td>609026476288715_609264796264883</td>\n",
       "      <td>7/23/2019</td>\n",
       "      <td>18:03</td>\n",
       "      <td>6.090000e+14</td>\n",
       "      <td>Bhai bhai</td>\n",
       "      <td>you dumb ass</td>\n",
       "      <td>0</td>\n",
       "      <td>0</td>\n",
       "      <td>LIKE</td>\n",
       "    </tr>\n",
       "    <tr>\n",
       "      <th>5</th>\n",
       "      <td>609026476288715_609029069621789</td>\n",
       "      <td>7/23/2019</td>\n",
       "      <td>10:29</td>\n",
       "      <td>2.460000e+15</td>\n",
       "      <td>Harsh Khandelwal</td>\n",
       "      <td>wow very nice post..</td>\n",
       "      <td>0</td>\n",
       "      <td>2</td>\n",
       "      <td>HAHA</td>\n",
       "    </tr>\n",
       "    <tr>\n",
       "      <th>6</th>\n",
       "      <td>609026476288715_609029662955063</td>\n",
       "      <td>7/23/2019</td>\n",
       "      <td>10:30</td>\n",
       "      <td>2.460000e+15</td>\n",
       "      <td>Harsh Khandelwal</td>\n",
       "      <td>very funny</td>\n",
       "      <td>0</td>\n",
       "      <td>0</td>\n",
       "      <td>HAHA</td>\n",
       "    </tr>\n",
       "    <tr>\n",
       "      <th>7</th>\n",
       "      <td>609026476288715_609029662955063</td>\n",
       "      <td>7/23/2019</td>\n",
       "      <td>10:30:00</td>\n",
       "      <td>2.460000e+15</td>\n",
       "      <td>Harsh Khandelwal</td>\n",
       "      <td>سيئ جدا</td>\n",
       "      <td>0</td>\n",
       "      <td>0</td>\n",
       "      <td>HAHA</td>\n",
       "    </tr>\n",
       "    <tr>\n",
       "      <th>8</th>\n",
       "      <td>609026476288715_609264796264889</td>\n",
       "      <td>7/23/2019</td>\n",
       "      <td>18:03</td>\n",
       "      <td>4.090000e+14</td>\n",
       "      <td>Vidit</td>\n",
       "      <td>Very Bad post</td>\n",
       "      <td>0</td>\n",
       "      <td>0</td>\n",
       "      <td>Angry</td>\n",
       "    </tr>\n",
       "    <tr>\n",
       "      <th>9</th>\n",
       "      <td>609026476288715_609264796264890</td>\n",
       "      <td>7/23/2019</td>\n",
       "      <td>18:04</td>\n",
       "      <td>4.090000e+14</td>\n",
       "      <td>Vidit</td>\n",
       "      <td>वाह तुम कमाल की लग रही हो</td>\n",
       "      <td>0</td>\n",
       "      <td>0</td>\n",
       "      <td>Angry</td>\n",
       "    </tr>\n",
       "  </tbody>\n",
       "</table>\n",
       "</div>"
      ],
      "text/plain": [
       "                        Comment Id       Date      Time       form_id  \\\n",
       "0  609026476288715_609026876288675  7/23/2019     10:22  6.090000e+14   \n",
       "1  609026476288715_609026892955340  7/23/2019     10:22  6.090000e+14   \n",
       "2  609026476288715_609029732955056  7/23/2019     10:31  6.090000e+14   \n",
       "3  609026476288715_609253272932702  7/23/2019     17:37  6.090000e+14   \n",
       "4  609026476288715_609264796264883  7/23/2019     18:03  6.090000e+14   \n",
       "5  609026476288715_609029069621789  7/23/2019     10:29  2.460000e+15   \n",
       "6  609026476288715_609029662955063  7/23/2019     10:30  2.460000e+15   \n",
       "7  609026476288715_609029662955063  7/23/2019  10:30:00  2.460000e+15   \n",
       "8  609026476288715_609264796264889  7/23/2019     18:03  4.090000e+14   \n",
       "9  609026476288715_609264796264890  7/23/2019     18:04  4.090000e+14   \n",
       "\n",
       "             From_x                    Message  Likes  Comments   Type  \n",
       "0         Bhai bhai                         hi      0         0   LIKE  \n",
       "1         Bhai bhai                        bye      0         1   LIKE  \n",
       "2         Bhai bhai      thankyou so much dear      0         0   LIKE  \n",
       "3         Bhai bhai                Shut up????      0         0   LIKE  \n",
       "4         Bhai bhai               you dumb ass      0         0   LIKE  \n",
       "5  Harsh Khandelwal       wow very nice post..      0         2   HAHA  \n",
       "6  Harsh Khandelwal                 very funny      0         0   HAHA  \n",
       "7  Harsh Khandelwal                    سيئ جدا      0         0   HAHA  \n",
       "8             Vidit              Very Bad post      0         0  Angry  \n",
       "9             Vidit  वाह तुम कमाल की लग रही हो      0         0  Angry  "
      ]
     },
     "execution_count": 6,
     "metadata": {},
     "output_type": "execute_result"
    }
   ],
   "source": [
    "merged = df.merge(df1, on='form_id')\n",
    "del merged[\"From_y\"]\n",
    "merged.to_csv(\"output.csv\", index=False)\n",
    "merged"
   ]
  },
  {
   "cell_type": "markdown",
   "metadata": {},
   "source": [
    "### Defining lists for differnet categories of the comments"
   ]
  },
  {
   "cell_type": "code",
   "execution_count": 7,
   "metadata": {},
   "outputs": [],
   "source": [
    "positive=[]\n",
    "negative=[]\n",
    "neutral=[]\n",
    "facts=[]\n",
    "abusive=[]\n",
    "others=[]"
   ]
  },
  {
   "cell_type": "markdown",
   "metadata": {},
   "source": [
    "### Training the Model"
   ]
  },
  {
   "cell_type": "code",
   "execution_count": 8,
   "metadata": {},
   "outputs": [],
   "source": [
    "from __future__ import absolute_import\n",
    "from collections import namedtuple\n",
    "import nltk\n",
    "from textblob.en import sentiment as pattern_sentiment\n",
    "from textblob.tokenizers import word_tokenize\n",
    "from textblob.decorators import requires_nltk_corpus\n",
    "from textblob.base import BaseSentimentAnalyzer, DISCRETE, CONTINUOUS\n",
    "from textblob import Blobber\n",
    "from textblob.sentiments import NaiveBayesAnalyzer\n",
    "nb = Blobber(analyzer=NaiveBayesAnalyzer())\n",
    "\n",
    "\n",
    "def _default_feature_extractor(words):\n",
    "    return dict(((word, True) for word in words))\n",
    "\n",
    "class NaiveBayesAnalyzer(BaseSentimentAnalyzer):\n",
    "    \n",
    "    kind = DISCRETE\n",
    "    #: Return type declaration\n",
    "    RETURN_TYPE = namedtuple('Sentiment', ['classification', 'p_pos', 'p_neg'])\n",
    "\n",
    "    def __init__(self, feature_extractor=_default_feature_extractor):\n",
    "        super(NaiveBayesAnalyzer, self).__init__()\n",
    "        self._classifier = None\n",
    "        self.feature_extractor = feature_extractor\n",
    "\n",
    "    @requires_nltk_corpus\n",
    "    def train(self):\n",
    "        \"\"\"Train the Naive Bayes classifier on the movie review corpus.\"\"\"\n",
    "        super(NaiveBayesAnalyzer, self).train()\n",
    "        neg_ids = nltk.corpus.movie_reviews.fileids('neg')\n",
    "        pos_ids = nltk.corpus.movie_reviews.fileids('pos')\n",
    "        neg_feats = [(self.feature_extractor(\n",
    "            nltk.corpus.movie_reviews.words(fileids=[f])), 'neg') for f in neg_ids]\n",
    "        pos_feats = [(self.feature_extractor(\n",
    "            nltk.corpus.movie_reviews.words(fileids=[f])), 'pos') for f in pos_ids]\n",
    "        train_data = neg_feats + pos_feats\n",
    "        self._classifier = nltk.classify.NaiveBayesClassifier.train(train_data)\n",
    "\n",
    "\n",
    "    def analyze(self, text):\n",
    "       \n",
    "        super(NaiveBayesAnalyzer, self).analyze(text)\n",
    "        tokens = word_tokenize(text, include_punc=False)\n",
    "        filtered = (t.lower() for t in tokens if len(t) >= 3)\n",
    "        feats = self.feature_extractor(filtered)\n",
    "        prob_dist = self._classifier.prob_classify(feats)\n",
    "        return self.RETURN_TYPE(\n",
    "            classification=prob_dist.max(),\n",
    "            p_pos=prob_dist.prob('pos'),\n",
    "            p_neg=prob_dist.prob(\"neg\")\n",
    "        )"
   ]
  },
  {
   "cell_type": "markdown",
   "metadata": {},
   "source": [
    "### Categorizing the comment"
   ]
  },
  {
   "cell_type": "code",
   "execution_count": 9,
   "metadata": {},
   "outputs": [
    {
     "name": "stdout",
     "output_type": "stream",
     "text": [
      "hi LIKE\n",
      "en\n",
      "Sentiment(classification='neg', p_pos=0.483644859813084, p_neg=0.5163551401869159)\n",
      "bye LIKE\n",
      "en\n",
      "Sentiment(classification='neg', p_pos=0.400852052672347, p_neg=0.5991479473276535)\n",
      "thankyou so much dear LIKE\n",
      "en\n",
      "Sentiment(classification='neg', p_pos=0.4201101969350939, p_neg=0.5798898030649061)\n",
      "Shut up???? LIKE\n",
      "en\n",
      "Sentiment(classification='neg', p_pos=0.43258896584666856, p_neg=0.5674110341533315)\n",
      "you dumb ass LIKE\n",
      "en\n",
      "Sentiment(classification='neg', p_pos=0.1515116542353358, p_neg=0.8484883457646647)\n",
      "wow very nice post.. HAHA\n",
      "en\n",
      "Sentiment(classification='neg', p_pos=0.3854309258938403, p_neg=0.6145690741061599)\n",
      "very funny HAHA\n",
      "en\n",
      "Sentiment(classification='pos', p_pos=0.523653936734975, p_neg=0.47634606326502493)\n",
      "سيئ جدا HAHA\n",
      "ar\n",
      "Sentiment(polarity=-0.24999999999999992, subjectivity=0.4833333333333333)\n",
      "Very Bad post Angry\n",
      "en\n",
      "Sentiment(classification='neg', p_pos=0.3460577990790839, p_neg=0.6539422009209162)\n",
      "वाह तुम कमाल की लग रही हो Angry\n",
      "hi\n",
      "Sentiment(polarity=0.35000000000000003, subjectivity=0.95)\n"
     ]
    }
   ],
   "source": [
    "comm=merged[\"Message\"] +\" \"+ merged[\"Type\"]  # Mapping comment with the reaction\n",
    "\n",
    "reac=merged[\"Type\"]\n",
    "comm_id=merged[\"Comment Id\"]\n",
    "\n",
    "\n",
    "# Categorizing the comments\n",
    "for i in range(len(merged)):\n",
    "    b=comm[i]\n",
    "    flag=int(0)\n",
    "    blob = tb(b)\n",
    "    p=blob.detect_language()\n",
    "    print(b)\n",
    "    print(p)\n",
    "    \n",
    "    if(p!='en'):\n",
    "        b=blob.translate(from_lang=p, to ='en')\n",
    "        if(b.sentiment.polarity>0.30 and b.sentiment.subjectivity!=1):\n",
    "            positive.append(comm_id[i])\n",
    "\n",
    "        elif(b.sentiment.polarity==0 and b.sentiment.subjectivity!=1):\n",
    "            neutral.append(comm_id[i])\n",
    "\n",
    "        elif(b.sentiment.polarity<-0.25 and b.sentiment.subjectivity!=1):\n",
    "            for row in data:\n",
    "                if(row.lower() in b):\n",
    "                    abusive.append(b)\n",
    "                    flag=1;\n",
    "                    break;\n",
    "            if(flag==0):\n",
    "                negative.append(b)            \n",
    "\n",
    "        elif(b.sentiment.subjectivity>=0.75):\n",
    "            facts.append(comm_id[i])\n",
    "        else:\n",
    "            others.append(comm_id[i])\n",
    "        \n",
    "        print(b.sentiment)\n",
    "    \n",
    "    else:\n",
    "        if((nb(b).sentiment.p_pos - nb(b).sentiment.p_neg)>0.0):\n",
    "            positive.append(comm_id[i])\n",
    "\n",
    "        elif((nb(b).sentiment.p_pos - nb(b).sentiment.p_neg)<=0.01 and (nb(b).sentiment.p_pos - nb(b).sentiment.p_neg)>=-0.1):\n",
    "            neutral.append(comm_id[i])\n",
    "\n",
    "        elif((nb(b).sentiment.p_pos - nb(b).sentiment.p_neg)<-0.25):\n",
    "            for row in data:\n",
    "                if(row.lower() in b):\n",
    "                    abusive.append(b);\n",
    "                    flag=1;\n",
    "                    break;\n",
    "            if(flag==0):\n",
    "                negative.append(b)            \n",
    "\n",
    "        elif(((nb(b).sentiment.p_pos - nb(b).sentiment.p_neg)>0.01 and (nb(b).sentiment.p_pos - nb(b).sentiment.p_neg)<0.25) or ((nb(b).sentiment.p_pos - nb(b).sentiment.p_neg)<-0.1 and (nb(b).sentiment.p_pos - nb(b).sentiment.p_neg)>-0.25)):\n",
    "            facts.append(comm_id[i])\n",
    "        else:\n",
    "            others.append(comm_id[i])\n",
    "\n",
    "        print(nb(b).sentiment)"
   ]
  },
  {
   "cell_type": "code",
   "execution_count": 10,
   "metadata": {},
   "outputs": [
    {
     "data": {
      "text/plain": [
       "['609026476288715_609026876288675']"
      ]
     },
     "execution_count": 10,
     "metadata": {},
     "output_type": "execute_result"
    }
   ],
   "source": [
    "neutral"
   ]
  },
  {
   "cell_type": "code",
   "execution_count": 11,
   "metadata": {},
   "outputs": [
    {
     "data": {
      "text/plain": [
       "['609026476288715_609026892955340',\n",
       " '609026476288715_609029732955056',\n",
       " '609026476288715_609253272932702',\n",
       " '609026476288715_609029069621789']"
      ]
     },
     "execution_count": 11,
     "metadata": {},
     "output_type": "execute_result"
    }
   ],
   "source": [
    "facts"
   ]
  },
  {
   "cell_type": "code",
   "execution_count": 12,
   "metadata": {},
   "outputs": [
    {
     "data": {
      "text/plain": [
       "['609026476288715_609029662955063', '609026476288715_609264796264890']"
      ]
     },
     "execution_count": 12,
     "metadata": {},
     "output_type": "execute_result"
    }
   ],
   "source": [
    "positive"
   ]
  },
  {
   "cell_type": "markdown",
   "metadata": {},
   "source": [
    "### Calculating the percentage of each category"
   ]
  },
  {
   "cell_type": "code",
   "execution_count": 13,
   "metadata": {},
   "outputs": [],
   "source": [
    "p_positive = (len(positive)/len(merged))*100\n",
    "p_negative = (np.unique(negative).size/len(merged))*100\n",
    "p_neutral  = (len(neutral)/len(merged))*100\n",
    "p_facts    = (len(facts)/len(merged))*100\n",
    "p_abusive  = (len(abusive)/len(merged))*100\n",
    "p_others  = (len(others)/len(merged))*100"
   ]
  },
  {
   "cell_type": "code",
   "execution_count": 14,
   "metadata": {},
   "outputs": [
    {
     "name": "stdout",
     "output_type": "stream",
     "text": [
      "20.0% people's comment was positive\n",
      "10.0% people's comment was negative\n",
      "10.0% people's comment was neutral\n",
      "40.0% people's comment was facts\n",
      "10.0% people's comment was abusive\n",
      "10.0% people's comment was others(funny,sad...)\n"
     ]
    }
   ],
   "source": [
    "#Printing the percentage\n",
    "\n",
    "print(str(p_positive) + \"% people's comment was positive\")\n",
    "print(str(p_negative) + \"% people's comment was negative\")\n",
    "print(str(p_neutral) + \"% people's comment was neutral\")\n",
    "print(str(p_facts) + \"% people's comment was facts\")\n",
    "print(str(p_abusive) + \"% people's comment was abusive\")\n",
    "print(str(p_others) + \"% people's comment was others(funny,sad...)\")"
   ]
  },
  {
   "cell_type": "markdown",
   "metadata": {},
   "source": [
    "### Plotting the Bar Graph"
   ]
  },
  {
   "cell_type": "code",
   "execution_count": 15,
   "metadata": {},
   "outputs": [
    {
     "data": {
      "image/png": "[encoded data removed]",
      "text/plain": [
       "<Figure size 432x288 with 1 Axes>"
      ]
     },
     "metadata": {
      "needs_background": "light"
     },
     "output_type": "display_data"
    }
   ],
   "source": [
    "height = [p_positive, p_negative, p_neutral, p_facts,p_abusive,p_others]\n",
    "bars = ('Positive', 'Negative', 'Neutral', 'Facts', 'Abusive', 'Others')\n",
    "y_pos = np.arange(len(bars))\n",
    " \n",
    "# Create bars and choose color\n",
    "plt.bar(y_pos, height, color = (0.5,0.1,0.5,0.6))\n",
    " \n",
    "# Add title and axis names\n",
    "plt.title('Categories classification by Naive Bayes Algorithm')\n",
    "plt.xlabel('Categories')\n",
    "plt.ylabel('Count')\n",
    " \n",
    "# Limits for the Y axis\n",
    "plt.ylim(0,80)\n",
    " \n",
    "# Create names\n",
    "plt.xticks(y_pos, bars)\n",
    " \n",
    "# Show graphic\n",
    "plt.show()\n"
   ]
  }
 ],
 "metadata": {
  "kernelspec": {
   "display_name": "Python 3",
   "language": "python",
   "name": "python3"
  },
  "language_info": {
   "codemirror_mode": {
    "name": "ipython",
    "version": 3
   },
   "file_extension": ".py",
   "mimetype": "text/x-python",
   "name": "python",
   "nbconvert_exporter": "python",
   "pygments_lexer": "ipython3",
   "version": "3.7.4"
  }
 },
 "nbformat": 4,
 "nbformat_minor": 2
}
