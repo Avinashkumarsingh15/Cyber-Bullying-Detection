{
 "cells": [
  {
   "cell_type": "markdown",
   "metadata": {},
   "source": [
    "### Importing the Libraries"
   ]
  },
  {
   "cell_type": "code",
   "execution_count": 1,
   "metadata": {},
   "outputs": [],
   "source": [
    "import pandas as pd\n",
    "import numpy as np\n",
    "import matplotlib.pyplot as plt\n",
    "%matplotlib notebook\n",
    "from textblob import TextBlob as tb"
   ]
  },
  {
   "cell_type": "markdown",
   "metadata": {},
   "source": [
    "### Categories obtained from Pattern Analyzer"
   ]
  },
  {
   "cell_type": "code",
   "execution_count": 2,
   "metadata": {},
   "outputs": [],
   "source": [
    "p_positive1 = 20.0 \n",
    "p_negative1 = 10.0\n",
    "p_neutral1  = 30.0\n",
    "p_facts1    = 0.0\n",
    "p_abusive1  = 10.0\n",
    "p_others1  =  30.0"
   ]
  },
  {
   "cell_type": "markdown",
   "metadata": {},
   "source": [
    "### Categories obtained from Naive Bayes"
   ]
  },
  {
   "cell_type": "code",
   "execution_count": 3,
   "metadata": {},
   "outputs": [],
   "source": [
    "p_positive2 = 20.0 \n",
    "p_negative2 = 10.0\n",
    "p_neutral2  = 10.0\n",
    "p_facts2    = 40.0\n",
    "p_abusive2  = 10.0\n",
    "p_others2  =  10.0"
   ]
  },
  {
   "cell_type": "markdown",
   "metadata": {},
   "source": [
    "### Visualizing the categories"
   ]
  },
  {
   "cell_type": "code",
   "execution_count": 4,
   "metadata": {},
   "outputs": [
    {
     "data": {
      "image/png": "[encoded data removed]",
      "text/plain": [
       "<Figure size 432x288 with 1 Axes>"
      ]
     },
     "metadata": {
      "needs_background": "light"
     },
     "output_type": "display_data"
    }
   ],
   "source": [
    "plt.bar([1,5,9,13,17,21],[p_positive1, p_negative1, p_neutral1, p_facts1,p_abusive1,p_others1], label=\"Pattern Analyzer\")\n",
    "plt.bar([2,6,10,14,18,22],[p_positive2, p_negative2, p_neutral2, p_facts2,p_abusive2,p_others2], label=\"Naive Bayes\", color='g')\n",
    "plt.legend()\n",
    "plt.xlabel('Categories')\n",
    "plt.ylabel('Count')\n",
    "plt.title('Working of Pattern Analyzer VS Naive Bayes')\n",
    "plt.show()"
   ]
  }
 ],
 "metadata": {
  "kernelspec": {
   "display_name": "Python 3",
   "language": "python",
   "name": "python3"
  },
  "language_info": {
   "codemirror_mode": {
    "name": "ipython",
    "version": 3
   },
   "file_extension": ".py",
   "mimetype": "text/x-python",
   "name": "python",
   "nbconvert_exporter": "python",
   "pygments_lexer": "ipython3",
   "version": "3.7.4"
  }
 },
 "nbformat": 4,
 "nbformat_minor": 2
}
